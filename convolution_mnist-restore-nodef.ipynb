{
 "cells": [
  {
   "cell_type": "code",
   "execution_count": 1,
   "metadata": {},
   "outputs": [],
   "source": [
    "import tensorflow as tf\n",
    "from tensorflow.examples.tutorials.mnist import input_data\n",
    "\n",
    "model_path = \"trained-model/mnist\""
   ]
  },
  {
   "cell_type": "code",
   "execution_count": 2,
   "metadata": {},
   "outputs": [
    {
     "name": "stdout",
     "output_type": "stream",
     "text": [
      "WARNING:tensorflow:From <ipython-input-2-71e12f4bac70>:1: read_data_sets (from tensorflow.contrib.learn.python.learn.datasets.mnist) is deprecated and will be removed in a future version.\n",
      "Instructions for updating:\n",
      "Please use alternatives such as official/mnist/dataset.py from tensorflow/models.\n",
      "WARNING:tensorflow:From c:\\users\\yurih\\appdata\\local\\programs\\python\\python36\\lib\\site-packages\\tensorflow\\contrib\\learn\\python\\learn\\datasets\\mnist.py:260: maybe_download (from tensorflow.contrib.learn.python.learn.datasets.base) is deprecated and will be removed in a future version.\n",
      "Instructions for updating:\n",
      "Please write your own downloading logic.\n",
      "WARNING:tensorflow:From c:\\users\\yurih\\appdata\\local\\programs\\python\\python36\\lib\\site-packages\\tensorflow\\contrib\\learn\\python\\learn\\datasets\\mnist.py:262: extract_images (from tensorflow.contrib.learn.python.learn.datasets.mnist) is deprecated and will be removed in a future version.\n",
      "Instructions for updating:\n",
      "Please use tf.data to implement this functionality.\n",
      "Extracting MNIST_data\\train-images-idx3-ubyte.gz\n",
      "WARNING:tensorflow:From c:\\users\\yurih\\appdata\\local\\programs\\python\\python36\\lib\\site-packages\\tensorflow\\contrib\\learn\\python\\learn\\datasets\\mnist.py:267: extract_labels (from tensorflow.contrib.learn.python.learn.datasets.mnist) is deprecated and will be removed in a future version.\n",
      "Instructions for updating:\n",
      "Please use tf.data to implement this functionality.\n",
      "Extracting MNIST_data\\train-labels-idx1-ubyte.gz\n",
      "WARNING:tensorflow:From c:\\users\\yurih\\appdata\\local\\programs\\python\\python36\\lib\\site-packages\\tensorflow\\contrib\\learn\\python\\learn\\datasets\\mnist.py:110: dense_to_one_hot (from tensorflow.contrib.learn.python.learn.datasets.mnist) is deprecated and will be removed in a future version.\n",
      "Instructions for updating:\n",
      "Please use tf.one_hot on tensors.\n",
      "Extracting MNIST_data\\t10k-images-idx3-ubyte.gz\n",
      "Extracting MNIST_data\\t10k-labels-idx1-ubyte.gz\n",
      "WARNING:tensorflow:From c:\\users\\yurih\\appdata\\local\\programs\\python\\python36\\lib\\site-packages\\tensorflow\\contrib\\learn\\python\\learn\\datasets\\mnist.py:290: DataSet.__init__ (from tensorflow.contrib.learn.python.learn.datasets.mnist) is deprecated and will be removed in a future version.\n",
      "Instructions for updating:\n",
      "Please use alternatives such as official/mnist/dataset.py from tensorflow/models.\n"
     ]
    }
   ],
   "source": [
    "mnist = input_data.read_data_sets('MNIST_data', one_hot=True)"
   ]
  },
  {
   "cell_type": "code",
   "execution_count": 3,
   "metadata": {},
   "outputs": [],
   "source": [
    "batch_size = 1970\n",
    "n_batch = mnist.train.num_examples // batch_size\n"
   ]
  },
  {
   "cell_type": "code",
   "execution_count": 4,
   "metadata": {},
   "outputs": [
    {
     "name": "stdout",
     "output_type": "stream",
     "text": [
      "INFO:tensorflow:Restoring parameters from trained-model/mnist\n",
      "Iter: 0, Test Accuracy: 0.9811999797821045\n",
      "Iter: 1, Test Accuracy: 0.9819999933242798\n",
      "Iter: 2, Test Accuracy: 0.9833999872207642\n",
      "Iter: 3, Test Accuracy: 0.9840999841690063\n",
      "Iter: 4, Test Accuracy: 0.9836000204086304\n",
      "Iter: 5, Test Accuracy: 0.9840999841690063\n",
      "Iter: 6, Test Accuracy: 0.9847000241279602\n",
      "Iter: 7, Test Accuracy: 0.9850999712944031\n",
      "Iter: 8, Test Accuracy: 0.9847000241279602\n",
      "Iter: 9, Test Accuracy: 0.9854999780654907\n",
      "Iter: 10, Test Accuracy: 0.9855999946594238\n",
      "Iter: 11, Test Accuracy: 0.9861999750137329\n",
      "Iter: 12, Test Accuracy: 0.9848999977111816\n",
      "Iter: 13, Test Accuracy: 0.9857000112533569\n",
      "Iter: 14, Test Accuracy: 0.9861999750137329\n",
      "Iter: 15, Test Accuracy: 0.9879999756813049\n",
      "Iter: 16, Test Accuracy: 0.9866999983787537\n",
      "Iter: 17, Test Accuracy: 0.9873999953269958\n",
      "Iter: 18, Test Accuracy: 0.9872000217437744\n",
      "Iter: 19, Test Accuracy: 0.9876000285148621\n",
      "Iter: 20, Test Accuracy: 0.9868999719619751\n"
     ]
    }
   ],
   "source": [
    "with tf.name_scope('training'):\n",
    "    gpu_options = tf.GPUOptions(per_process_gpu_memory_fraction=0.8)\n",
    "    with tf.Session(config=tf.ConfigProto(gpu_options=gpu_options, log_device_placement=True)) as sess:\n",
    "        \n",
    "        new_saver = tf.train.import_meta_graph('trained-model/mnist.meta')\n",
    "        new_saver.restore(sess, 'trained-model/mnist')\n",
    "\n",
    "        train_step = tf.get_collection('train_step')[0]\n",
    "        accuracy = tf.get_collection('accuracy')[0]\n",
    "        x = tf.get_collection('inputs')[0]\n",
    "        y = tf.get_collection('inputs')[1]\n",
    "        keep_prob = tf.get_collection('inputs')[2]\n",
    "        \n",
    "        for epoch in range (21):\n",
    "            for batch in range(n_batch):\n",
    "                batch_xs, batch_ys = mnist.train.next_batch(batch_size)\n",
    "                sess.run(train_step, feed_dict={x:batch_xs, y:batch_ys, keep_prob:0.7})\n",
    "\n",
    "            acc = sess.run(accuracy, feed_dict={x:mnist.test.images, y:mnist.test.labels, keep_prob:1.0})\n",
    "            \n",
    "            print(\"Iter: {}, Test Accuracy: {}\".format(epoch, acc))\n"
   ]
  },
  {
   "cell_type": "code",
   "execution_count": null,
   "metadata": {},
   "outputs": [],
   "source": []
  },
  {
   "cell_type": "code",
   "execution_count": null,
   "metadata": {},
   "outputs": [],
   "source": []
  }
 ],
 "metadata": {
  "kernelspec": {
   "display_name": "Python 3",
   "language": "python",
   "name": "python3"
  },
  "language_info": {
   "codemirror_mode": {
    "name": "ipython",
    "version": 3
   },
   "file_extension": ".py",
   "mimetype": "text/x-python",
   "name": "python",
   "nbconvert_exporter": "python",
   "pygments_lexer": "ipython3",
   "version": "3.6.7"
  }
 },
 "nbformat": 4,
 "nbformat_minor": 2
}
